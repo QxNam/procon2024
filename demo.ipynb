{
 "cells": [
  {
   "cell_type": "code",
   "execution_count": 3,
   "metadata": {},
   "outputs": [],
   "source": [
    "from collections import deque\n",
    "\n",
    "def apply_die_cutting(board, pattern, x, y, direction):\n",
    "    height = len(board)\n",
    "    width = len(board[0])\n",
    "    p_height = len(pattern)\n",
    "    p_width = len(pattern[0])\n",
    "\n",
    "    lifted_elements = []\n",
    "    for i in range(p_height):\n",
    "        for j in range(p_width):\n",
    "            if pattern[i][j] == 1:\n",
    "                board_x = y + i  # y là hàng\n",
    "                board_y = x + j  # x là cột\n",
    "                if 0 <= board_x < height and 0 <= board_y < width:\n",
    "                    lifted_elements.append(board[board_x][board_y])\n",
    "                    board[board_x][board_y] = None\n",
    "\n",
    "    if direction == 0:  # Di chuyển lên trên\n",
    "        for j in range(width):\n",
    "            new_col = deque(board[i][j] for i in range(height) if board[i][j] is not None)\n",
    "            new_col.extendleft([None] * (height - len(new_col)))\n",
    "            for i in range(height):\n",
    "                board[i][j] = new_col.pop()\n",
    "    elif direction == 1:  # Di chuyển xuống dưới\n",
    "        for j in range(width):\n",
    "            new_col = deque(board[i][j] for i in range(height) if board[i][j] is not None)\n",
    "            new_col.extend([None] * (height - len(new_col)))\n",
    "            for i in range(height):\n",
    "                board[i][j] = new_col.popleft()\n",
    "    elif direction == 2:  # Di chuyển sang trái\n",
    "        for i in range(height):\n",
    "            new_row = deque(board[i][j] for j in range(width) if board[i][j] is not None)\n",
    "            new_row.extendleft([None] * (width - len(new_row)))\n",
    "            for j in range(width):\n",
    "                board[i][j] = new_row.pop()\n",
    "    elif direction == 3:  # Di chuyển sang phải\n",
    "        for i in range(height):\n",
    "            new_row = deque(board[i][j] for j in range(width) if board[i][j] is not None)\n",
    "            new_row.extend([None] * (width - len(new_row)))\n",
    "            for j in range(width):\n",
    "                board[i][j] = new_row.popleft()\n",
    "\n",
    "    index = 0\n",
    "    for i in range(height):\n",
    "        for j in range(width):\n",
    "            if board[i][j] is None and index < len(lifted_elements):\n",
    "                board[i][j] = lifted_elements[index]\n",
    "                index += 1\n",
    "\n",
    "    return board"
   ]
  },
  {
   "cell_type": "code",
   "execution_count": 4,
   "metadata": {},
   "outputs": [],
   "source": [
    "from procon.utils import load_json, list_to_matrix, check_goal\n",
    "from procon.die_cut import apply_die_cut"
   ]
  },
  {
   "cell_type": "code",
   "execution_count": 7,
   "metadata": {},
   "outputs": [],
   "source": [
    "# load board and transform to matrix format\n",
    "question = load_json('example/2/question')\n",
    "game = question['board']['start']\n",
    "goal = question['board']['goal']\n",
    "game = list_to_matrix(game)\n",
    "goal = list_to_matrix(goal)\n",
    "\n",
    "# load dies and transform to matrix format\n",
    "dies = load_json('./data/fix_die')\n",
    "patterns = {pat['p']: pat['cells'] for pat in question['general']['patterns']}\n",
    "dies.update(patterns)\n",
    "dies = {int(p): list_to_matrix(dies[p]) for p in dies}"
   ]
  },
  {
   "cell_type": "code",
   "execution_count": 9,
   "metadata": {},
   "outputs": [
    {
     "data": {
      "text/plain": [
       "(array([[3, 2, 2, 2, 3],\n",
       "        [0, 2, 1, 1, 0],\n",
       "        [2, 2, 3, 1, 2],\n",
       "        [0, 3, 2, 1, 3],\n",
       "        [3, 3, 2, 1, 0],\n",
       "        [1, 1, 3, 0, 0],\n",
       "        [2, 3, 0, 2, 2]]),\n",
       " array([[2, 2, 3, 2, 3],\n",
       "        [2, 1, 0, 1, 0],\n",
       "        [2, 1, 2, 3, 2],\n",
       "        [3, 1, 0, 2, 3],\n",
       "        [3, 1, 3, 2, 0],\n",
       "        [1, 0, 1, 3, 0],\n",
       "        [3, 2, 2, 0, 2]]))"
      ]
     },
     "execution_count": 9,
     "metadata": {},
     "output_type": "execute_result"
    }
   ],
   "source": [
    "game, goal"
   ]
  },
  {
   "cell_type": "code",
   "execution_count": null,
   "metadata": {},
   "outputs": [],
   "source": []
  }
 ],
 "metadata": {
  "kernelspec": {
   "display_name": "venv",
   "language": "python",
   "name": "python3"
  },
  "language_info": {
   "codemirror_mode": {
    "name": "ipython",
    "version": 3
   },
   "file_extension": ".py",
   "mimetype": "text/x-python",
   "name": "python",
   "nbconvert_exporter": "python",
   "pygments_lexer": "ipython3",
   "version": "3.10.8"
  }
 },
 "nbformat": 4,
 "nbformat_minor": 2
}
