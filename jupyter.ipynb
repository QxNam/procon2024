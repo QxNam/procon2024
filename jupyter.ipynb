{
 "cells": [
  {
   "cell_type": "code",
   "execution_count": 10,
   "metadata": {},
   "outputs": [],
   "source": [
    "from solution_simulator import game, goal, dies, solve\n",
    "from pprint import pprint\n",
    "import numpy as np"
   ]
  },
  {
   "cell_type": "code",
   "execution_count": 11,
   "metadata": {},
   "outputs": [
    {
     "data": {
      "text/plain": [
       "(4, 6)"
      ]
     },
     "execution_count": 11,
     "metadata": {},
     "output_type": "execute_result"
    }
   ],
   "source": [
    "goal.shape"
   ]
  },
  {
   "cell_type": "code",
   "execution_count": 12,
   "metadata": {},
   "outputs": [
    {
     "data": {
      "text/plain": [
       "array([[2, 2, 0, 1, 0, 3],\n",
       "       [2, 1, 3, 0, 3, 3],\n",
       "       [0, 2, 2, 1, 0, 3],\n",
       "       [3, 2, 2, 0, 3, 3]])"
      ]
     },
     "execution_count": 12,
     "metadata": {},
     "output_type": "execute_result"
    }
   ],
   "source": [
    "game"
   ]
  },
  {
   "cell_type": "code",
   "execution_count": 18,
   "metadata": {},
   "outputs": [
    {
     "name": "stdout",
     "output_type": "stream",
     "text": [
      "Die 25 at (3, 3) to 0\n",
      "[[0 1 1 1]\n",
      " [1 0 0 1]]\n"
     ]
    }
   ],
   "source": [
    "step1 = solve['ops'][2]\n",
    "p_die = step1['p']\n",
    "die = dies[p_die] # p_die\n",
    "x = step1['x']\n",
    "y = step1['y']\n",
    "s = step1['s']\n",
    "\n",
    "print(f\"Die {p_die} at ({x}, {y}) to {s}\")\n",
    "print(die)"
   ]
  },
  {
   "cell_type": "code",
   "execution_count": 27,
   "metadata": {},
   "outputs": [
    {
     "name": "stdout",
     "output_type": "stream",
     "text": [
      "3 3 6 4\n",
      "[[0 3 3]]\n"
     ]
    }
   ],
   "source": [
    "def get_point(game: np.ndarray, die: np.ndarray, x: int, y: int) -> tuple:\n",
    "    '''\n",
    "    Get the point of the die in the game\n",
    "    \n",
    "    Args:\n",
    "        game (np.ndarray): the game game\n",
    "        die (np.ndarray): the die\n",
    "        x (int): the x coordinate\n",
    "        y (int): the y coordinate\n",
    "    \n",
    "    Returns:\n",
    "        tuple: the x_start, y_start, x_end, y_end\n",
    "    '''\n",
    "    h, w = game.shape\n",
    "    _h, _w = die.shape\n",
    "    x_end = min(x + _w, w)\n",
    "    y_end = min(y + _h, h)\n",
    "    x_start, y_start = max(x, 0), max(y, 0)\n",
    "\n",
    "    return x_start, y_start, x_end, y_end\n",
    "\n",
    "\n",
    "x1, y1, x2, y2 = get_point(game, die, x, y)\n",
    "print(x1, y1, x2, y2)\n",
    "A = game[y1:y2, x1:x2]\n",
    "print(A)"
   ]
  },
  {
   "cell_type": "code",
   "execution_count": 20,
   "metadata": {},
   "outputs": [
    {
     "data": {
      "text/plain": [
       "(array([[-1,  3,  0,  3],\n",
       "        [ 2, -1, -1,  0]]),\n",
       " (array([0, 0, 0, 1, 1]), array([1, 2, 3, 0, 3])))"
      ]
     },
     "execution_count": 20,
     "metadata": {},
     "output_type": "execute_result"
    }
   ],
   "source": [
    "def lift_elements(A: np.ndarray, die: np.ndarray) -> np.ndarray:\n",
    "    '''\n",
    "    Lift the elements of the die in the game\n",
    "    \n",
    "    Args:\n",
    "        A (np.ndarray): the game game\n",
    "        die (np.ndarray): the die\n",
    "        \n",
    "    Returns:\n",
    "        np.ndarray: the lifted elements\n",
    "    '''\n",
    "    h, w = A.shape\n",
    "    die = die[:h, :w]\n",
    "    res = np.zeros(A.shape, dtype=int)-1\n",
    "    pos_1 = np.where(die == 1)\n",
    "    res[pos_1] = A[pos_1]\n",
    "    return res, pos_1\n",
    "\n",
    "lift_elements(A, die)"
   ]
  },
  {
   "cell_type": "code",
   "execution_count": 30,
   "metadata": {},
   "outputs": [
    {
     "name": "stdout",
     "output_type": "stream",
     "text": [
      "row1=[np.int64(1), np.int64(0), np.int64(1), np.int64(0)]\n",
      "row2=[]\n",
      "[1. 0. 1. 0.]\n",
      "row1=[np.int64(0), np.int64(3), np.int64(0)]\n",
      "row2=[np.int64(3)]\n",
      "[3 0 3 0]\n",
      "row1=[np.int64(3), np.int64(3), np.int64(3)]\n",
      "row2=[np.int64(3)]\n",
      "[3 3 3 3]\n"
     ]
    },
    {
     "data": {
      "text/plain": [
       "array([[2, 2, 0, 1, 3, 3],\n",
       "       [2, 1, 3, 0, 0, 3],\n",
       "       [0, 2, 2, 1, 3, 3],\n",
       "       [3, 2, 2, 0, 0, 3]])"
      ]
     },
     "execution_count": 30,
     "metadata": {},
     "output_type": "execute_result"
    }
   ],
   "source": [
    "def die_cut(game: np.ndarray, die: np.ndarray, x: int, y: int, d: int) -> np.ndarray:\n",
    "    '''\n",
    "    Cut the die in the game\n",
    "\n",
    "    Args:\n",
    "        game (np.ndarray): the game game\n",
    "        die (np.ndarray): the die\n",
    "        x (int): the x coordinate\n",
    "        y (int): the y coordinate\n",
    "        d (int): the d (0-top, 1-bottom, 2-left, 3-right)\n",
    "\n",
    "    Returns:\n",
    "        np.ndarray: the cut die\n",
    "    '''\n",
    "    height, width = game.shape\n",
    "    x1, y1, x2, y2 = get_point(game, die, x, y)\n",
    "    A = game[y1:y2, x1:x2]\n",
    "    L, P = lift_elements(A, die)\n",
    "    P_ = (P[0] + y1, P[1] + x1)\n",
    "    game[P_] = -1\n",
    "    if d>1:\n",
    "        for r in range(y1, y2):\n",
    "            col1 = [game[r][i] for i in range(width) if game[r][i] != -1]\n",
    "            col2 = [L[r-y1][i] for i in range(len(L[r-y1])) if L[r-y1][i] != -1]\n",
    "            if d == 3: # right\n",
    "                col = np.concatenate((col1, col2))\n",
    "                # game[r] = col\n",
    "            elif d == 2: # left\n",
    "                col = np.concatenate((col2, col1))\n",
    "                # game[r] = col\n",
    "    else:\n",
    "        for c in range(x1, x2):\n",
    "            row1 = [game[i][c] for i in range(height) if game[i][c] != -1]\n",
    "            print(f'{row1=}')\n",
    "\n",
    "            row2 = [L[i][c-x1] for i in range(len(L)) if L[i][c-x1] != -1][::-1]\n",
    "            print(f'{row2=}')\n",
    "            if d == 1: # bottom\n",
    "                row = np.concatenate((row1, row2))\n",
    "                print(row)\n",
    "                # game[:, c] = row\n",
    "            elif d == 0: # top\n",
    "                row = np.concatenate((row2, row1))\n",
    "                print(row)\n",
    "                game[:, c] = row\n",
    "\n",
    "    return game\n",
    "\n",
    "test = game.copy()\n",
    "test = die_cut(test, die, x, y, s)\n",
    "test"
   ]
  },
  {
   "cell_type": "code",
   "execution_count": 22,
   "metadata": {},
   "outputs": [
    {
     "data": {
      "text/plain": [
       "array([[2, 2, 0, 1, 0, 3],\n",
       "       [2, 1, 3, 0, 3, 3],\n",
       "       [0, 2, 2, 1, 0, 3],\n",
       "       [3, 2, 2, 0, 3, 3]])"
      ]
     },
     "execution_count": 22,
     "metadata": {},
     "output_type": "execute_result"
    }
   ],
   "source": [
    "game"
   ]
  },
  {
   "cell_type": "code",
   "execution_count": 25,
   "metadata": {},
   "outputs": [
    {
     "data": {
      "text/plain": [
       "array([[2, 2, 2, 1, 0, 3],\n",
       "       [1, 3, 0, 3, 2, 3],\n",
       "       [2, 2, 0, 3, 0, 3],\n",
       "       [2, 0, 1, 0, 3, 3]])"
      ]
     },
     "execution_count": 25,
     "metadata": {},
     "output_type": "execute_result"
    }
   ],
   "source": [
    "test"
   ]
  },
  {
   "cell_type": "code",
   "execution_count": 13,
   "metadata": {},
   "outputs": [
    {
     "data": {
      "text/plain": [
       "{0: [2, 3], 1: [4], 3: [2]}"
      ]
     },
     "execution_count": 13,
     "metadata": {},
     "output_type": "execute_result"
    }
   ],
   "source": [
    "x = ([0, 0, 1, 3], [2, 3, 4, 2])\n",
    "\n",
    "k = {}\n",
    "for i, j in zip(*x):\n",
    "    k[i] = k.get(i, []) + [j]\n",
    "k"
   ]
  },
  {
   "cell_type": "code",
   "execution_count": 25,
   "metadata": {},
   "outputs": [
    {
     "data": {
      "text/plain": [
       "[0, 1, 0]"
      ]
     },
     "execution_count": 25,
     "metadata": {},
     "output_type": "execute_result"
    }
   ],
   "source": [
    "a=[0, 0, 1, 0]\n",
    "a.pop(0)\n",
    "a"
   ]
  },
  {
   "cell_type": "code",
   "execution_count": 9,
   "metadata": {},
   "outputs": [
    {
     "data": {
      "text/plain": [
       "array([2, 0])"
      ]
     },
     "execution_count": 9,
     "metadata": {},
     "output_type": "execute_result"
    }
   ],
   "source": [
    "game[(0, 0), (1, 2)]"
   ]
  }
 ],
 "metadata": {
  "kernelspec": {
   "display_name": "venv",
   "language": "python",
   "name": "python3"
  },
  "language_info": {
   "codemirror_mode": {
    "name": "ipython",
    "version": 3
   },
   "file_extension": ".py",
   "mimetype": "text/x-python",
   "name": "python",
   "nbconvert_exporter": "python",
   "pygments_lexer": "ipython3",
   "version": "3.10.8"
  }
 },
 "nbformat": 4,
 "nbformat_minor": 2
}
