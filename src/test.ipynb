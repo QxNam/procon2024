{
 "cells": [
  {
   "cell_type": "code",
   "execution_count": null,
   "metadata": {},
   "outputs": [],
   "source": [
    "from utils import apply_die_cutting"
   ]
  },
  {
   "cell_type": "code",
   "execution_count": 16,
   "metadata": {},
   "outputs": [
    {
     "name": "stdout",
     "output_type": "stream",
     "text": [
      "(6, 7)\n",
      "(3, 3)\n"
     ]
    }
   ],
   "source": [
    "import numpy as np\n",
    "\n",
    "board = np.array([\n",
    "    [1, 0, 1, 1, 2, 2, 1],\n",
    "    [2, 3, 1, 1, 0, 0, 2],\n",
    "    [3, 0, 2, 1, 1, 1, 1],\n",
    "    [3, 0, 0, 2, 2, 3, 1],\n",
    "    [2, 2, 3, 2, 0, 2, 2],\n",
    "    [3, 3, 1, 0, 3, 2, 3]\n",
    "])\n",
    "\n",
    "print(board.shape) # row, col == h, w\n",
    "\n",
    "die = np.array([\n",
    "    [0, 1, 0],\n",
    "    [1, 0, 1],\n",
    "    [1, 1, 0]\n",
    "])\n",
    "\n",
    "print(die.shape) # row, col == h, w"
   ]
  },
  {
   "cell_type": "code",
   "execution_count": 6,
   "metadata": {},
   "outputs": [],
   "source": [
    "top = np.array([\n",
    "    [1, 0, 1, 1, 2, 2, 1],\n",
    "    [2, 3, 1, 1, 0, 0, 2],\n",
    "    [3, 0, 0, 1, 1, 1, 1],\n",
    "    [3, 3, 1, 2, 2, 3, 1],\n",
    "    [2, 0, 2, 0, 0, 2, 2],\n",
    "    [3, 2, 3, 2, 3, 2, 3]\n",
    "])\n",
    "\n",
    "bottom = np.array([\n",
    "    [1, 0, 2, 2, 2, 2, 1],\n",
    "    [2, 2, 3, 1, 0, 0, 2],\n",
    "    [3, 0, 1, 1, 1, 1, 1],\n",
    "    [3, 3, 1, 1, 2, 3, 1],\n",
    "    [2, 0, 0, 2, 0, 2, 2],\n",
    "    [3, 3, 1, 0, 3, 2, 3]\n",
    "])\n",
    "\n",
    "left = np.array([\n",
    "    [1, 0, 1, 1, 2, 2, 1],\n",
    "    [2, 3, 1, 1, 0, 0, 2],\n",
    "    [3, 0, 1, 1, 1, 1, 2],\n",
    "    [3, 0, 2, 3, 1, 0, 2],\n",
    "    [2, 2, 0, 2, 2, 2, 3],\n",
    "    [3, 3, 1, 0, 3, 2, 3]\n",
    "])\n",
    "\n",
    "right = np.array([\n",
    "    [1, 0, 1, 1, 2, 2, 1],\n",
    "    [2, 3, 1, 1, 0, 0, 2],\n",
    "    [2, 3, 0, 1, 1, 1, 1],\n",
    "    [0, 2, 3, 0, 2, 3, 1],\n",
    "    [2, 3, 2, 2, 0, 2, 2],\n",
    "    [3, 3, 1, 0, 3, 2, 3]\n",
    "])"
   ]
  },
  {
   "cell_type": "markdown",
   "metadata": {},
   "source": [
    "# top"
   ]
  },
  {
   "cell_type": "code",
   "execution_count": 8,
   "metadata": {},
   "outputs": [
    {
     "data": {
      "text/plain": [
       "array([[1, 0, 1, 1, 2, 2, 1],\n",
       "       [2, 3, 1, 1, 0, 0, 2],\n",
       "       [3, 0, 0, 1, 1, 1, 1],\n",
       "       [3, 3, 1, 2, 2, 3, 1],\n",
       "       [2, 0, 2, 0, 0, 2, 2],\n",
       "       [3, 2, 3, 2, 3, 2, 3]])"
      ]
     },
     "execution_count": 8,
     "metadata": {},
     "output_type": "execute_result"
    }
   ],
   "source": [
    "apply_die_cutting(board, die, 1, 2, 0) \n",
    "\n",
    "board"
   ]
  },
  {
   "cell_type": "code",
   "execution_count": 9,
   "metadata": {},
   "outputs": [
    {
     "data": {
      "text/plain": [
       "array([[ True,  True,  True,  True,  True,  True,  True],\n",
       "       [ True,  True,  True,  True,  True,  True,  True],\n",
       "       [ True,  True,  True,  True,  True,  True,  True],\n",
       "       [ True,  True,  True,  True,  True,  True,  True],\n",
       "       [ True,  True,  True,  True,  True,  True,  True],\n",
       "       [ True,  True,  True,  True,  True,  True,  True]])"
      ]
     },
     "execution_count": 9,
     "metadata": {},
     "output_type": "execute_result"
    }
   ],
   "source": [
    "board == top"
   ]
  },
  {
   "cell_type": "code",
   "execution_count": null,
   "metadata": {},
   "outputs": [],
   "source": []
  },
  {
   "cell_type": "markdown",
   "metadata": {},
   "source": [
    "# bottom"
   ]
  },
  {
   "cell_type": "code",
   "execution_count": 11,
   "metadata": {},
   "outputs": [
    {
     "data": {
      "text/plain": [
       "array([[1, 0, 2, 2, 2, 2, 1],\n",
       "       [2, 2, 3, 1, 0, 0, 2],\n",
       "       [3, 0, 1, 1, 1, 1, 1],\n",
       "       [3, 3, 1, 1, 2, 3, 1],\n",
       "       [2, 0, 0, 2, 0, 2, 2],\n",
       "       [3, 3, 1, 0, 3, 2, 3]])"
      ]
     },
     "execution_count": 11,
     "metadata": {},
     "output_type": "execute_result"
    }
   ],
   "source": [
    "apply_die_cutting(board, die, 1, 2, 1) \n",
    "\n",
    "board"
   ]
  },
  {
   "cell_type": "code",
   "execution_count": 12,
   "metadata": {},
   "outputs": [
    {
     "data": {
      "text/plain": [
       "array([[ True,  True,  True,  True,  True,  True,  True],\n",
       "       [ True,  True,  True,  True,  True,  True,  True],\n",
       "       [ True,  True,  True,  True,  True,  True,  True],\n",
       "       [ True,  True,  True,  True,  True,  True,  True],\n",
       "       [ True,  True,  True,  True,  True,  True,  True],\n",
       "       [ True,  True,  True,  True,  True,  True,  True]])"
      ]
     },
     "execution_count": 12,
     "metadata": {},
     "output_type": "execute_result"
    }
   ],
   "source": [
    "board == bottom"
   ]
  },
  {
   "cell_type": "markdown",
   "metadata": {},
   "source": [
    "# left"
   ]
  },
  {
   "cell_type": "code",
   "execution_count": 14,
   "metadata": {},
   "outputs": [
    {
     "data": {
      "text/plain": [
       "array([[1, 0, 1, 1, 2, 2, 1],\n",
       "       [2, 3, 1, 1, 0, 0, 2],\n",
       "       [3, 0, 1, 1, 1, 1, 2],\n",
       "       [3, 0, 2, 3, 1, 0, 2],\n",
       "       [2, 2, 0, 2, 2, 2, 3],\n",
       "       [3, 3, 1, 0, 3, 2, 3]])"
      ]
     },
     "execution_count": 14,
     "metadata": {},
     "output_type": "execute_result"
    }
   ],
   "source": [
    "apply_die_cutting(board, die, 1, 2, 2) \n",
    "\n",
    "board"
   ]
  },
  {
   "cell_type": "code",
   "execution_count": 15,
   "metadata": {},
   "outputs": [
    {
     "data": {
      "text/plain": [
       "array([[ True,  True,  True,  True,  True,  True,  True],\n",
       "       [ True,  True,  True,  True,  True,  True,  True],\n",
       "       [ True,  True,  True,  True,  True,  True,  True],\n",
       "       [ True,  True,  True,  True,  True,  True,  True],\n",
       "       [ True,  True,  True,  True,  True,  True,  True],\n",
       "       [ True,  True,  True,  True,  True,  True,  True]])"
      ]
     },
     "execution_count": 15,
     "metadata": {},
     "output_type": "execute_result"
    }
   ],
   "source": [
    "board == left"
   ]
  },
  {
   "cell_type": "markdown",
   "metadata": {},
   "source": [
    "# right"
   ]
  },
  {
   "cell_type": "code",
   "execution_count": 17,
   "metadata": {},
   "outputs": [
    {
     "data": {
      "text/plain": [
       "array([[1, 0, 1, 1, 2, 2, 1],\n",
       "       [2, 3, 1, 1, 0, 0, 2],\n",
       "       [2, 3, 0, 1, 1, 1, 1],\n",
       "       [0, 2, 3, 0, 2, 3, 1],\n",
       "       [2, 3, 2, 2, 0, 2, 2],\n",
       "       [3, 3, 1, 0, 3, 2, 3]])"
      ]
     },
     "execution_count": 17,
     "metadata": {},
     "output_type": "execute_result"
    }
   ],
   "source": [
    "apply_die_cutting(board, die, 1, 2, 3) \n",
    "\n",
    "board"
   ]
  },
  {
   "cell_type": "code",
   "execution_count": 18,
   "metadata": {},
   "outputs": [
    {
     "data": {
      "text/plain": [
       "array([[ True,  True,  True,  True,  True,  True,  True],\n",
       "       [ True,  True,  True,  True,  True,  True,  True],\n",
       "       [ True,  True,  True,  True,  True,  True,  True],\n",
       "       [ True,  True,  True,  True,  True,  True,  True],\n",
       "       [ True,  True,  True,  True,  True,  True,  True],\n",
       "       [ True,  True,  True,  True,  True,  True,  True]])"
      ]
     },
     "execution_count": 18,
     "metadata": {},
     "output_type": "execute_result"
    }
   ],
   "source": [
    "board == right"
   ]
  }
 ],
 "metadata": {
  "kernelspec": {
   "display_name": "venv",
   "language": "python",
   "name": "python3"
  },
  "language_info": {
   "codemirror_mode": {
    "name": "ipython",
    "version": 3
   },
   "file_extension": ".py",
   "mimetype": "text/x-python",
   "name": "python",
   "nbconvert_exporter": "python",
   "pygments_lexer": "ipython3",
   "version": "3.10.8"
  }
 },
 "nbformat": 4,
 "nbformat_minor": 2
}
