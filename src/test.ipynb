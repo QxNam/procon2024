{
 "cells": [
  {
   "cell_type": "code",
   "execution_count": 1,
   "metadata": {},
   "outputs": [],
   "source": [
    "from utils import apply_die_cutting, load_data, estimate_time, save_figure, create_json_submit\n",
    "import numpy as np"
   ]
  },
  {
   "cell_type": "markdown",
   "metadata": {},
   "source": [
    "# Test"
   ]
  },
  {
   "cell_type": "code",
   "execution_count": 37,
   "metadata": {},
   "outputs": [
    {
     "name": "stdout",
     "output_type": "stream",
     "text": [
      "(6, 7)\n",
      "(3, 3)\n"
     ]
    }
   ],
   "source": [
    "# initialize\n",
    "\n",
    "board = np.array([\n",
    "    [1, 0, 1, 1, 2, 2, 1],\n",
    "    [2, 3, 1, 1, 0, 0, 2],\n",
    "    [3, 0, 2, 1, 1, 1, 1],\n",
    "    [3, 0, 0, 2, 2, 3, 1],\n",
    "    [2, 2, 3, 2, 0, 2, 2],\n",
    "    [3, 3, 1, 0, 3, 2, 3]\n",
    "])\n",
    "\n",
    "print(board.shape) # row, col == h, w\n",
    "\n",
    "die = np.array([\n",
    "    [0, 1, 0],\n",
    "    [1, 0, 1],\n",
    "    [1, 1, 0]\n",
    "])\n",
    "\n",
    "print(die.shape) # row, col == h, w"
   ]
  },
  {
   "cell_type": "code",
   "execution_count": 39,
   "metadata": {},
   "outputs": [],
   "source": [
    "# results\n",
    "\n",
    "top = np.array([\n",
    "    [1, 0, 1, 1, 2, 2, 1],\n",
    "    [2, 3, 1, 1, 0, 0, 2],\n",
    "    [3, 0, 0, 1, 1, 1, 1],\n",
    "    [3, 3, 1, 2, 2, 3, 1],\n",
    "    [2, 0, 2, 0, 0, 2, 2],\n",
    "    [3, 2, 3, 2, 3, 2, 3]\n",
    "])\n",
    "\n",
    "bottom = np.array([\n",
    "    [1, 0, 2, 2, 2, 2, 1],\n",
    "    [2, 2, 3, 1, 0, 0, 2],\n",
    "    [3, 0, 1, 1, 1, 1, 1],\n",
    "    [3, 3, 1, 1, 2, 3, 1],\n",
    "    [2, 0, 0, 2, 0, 2, 2],\n",
    "    [3, 3, 1, 0, 3, 2, 3]\n",
    "])\n",
    "\n",
    "left = np.array([\n",
    "    [1, 0, 1, 1, 2, 2, 1],\n",
    "    [2, 3, 1, 1, 0, 0, 2],\n",
    "    [3, 0, 1, 1, 1, 1, 2],\n",
    "    [3, 0, 2, 3, 1, 0, 2],\n",
    "    [2, 2, 0, 2, 2, 2, 3],\n",
    "    [3, 3, 1, 0, 3, 2, 3]\n",
    "])\n",
    "\n",
    "right = np.array([\n",
    "    [1, 0, 1, 1, 2, 2, 1],\n",
    "    [2, 3, 1, 1, 0, 0, 2],\n",
    "    [2, 3, 0, 1, 1, 1, 1],\n",
    "    [0, 2, 3, 0, 2, 3, 1],\n",
    "    [2, 3, 2, 2, 0, 2, 2],\n",
    "    [3, 3, 1, 0, 3, 2, 3]\n",
    "])"
   ]
  },
  {
   "cell_type": "markdown",
   "metadata": {},
   "source": [
    "## top"
   ]
  },
  {
   "cell_type": "code",
   "execution_count": 40,
   "metadata": {},
   "outputs": [
    {
     "data": {
      "text/plain": [
       "array([[1, 0, 1, 1, 2, 2, 1],\n",
       "       [2, 3, 1, 1, 0, 0, 2],\n",
       "       [3, 0, 0, 1, 1, 1, 1],\n",
       "       [3, 3, 1, 2, 2, 3, 1],\n",
       "       [2, 0, 2, 0, 0, 2, 2],\n",
       "       [3, 2, 3, 2, 3, 2, 3]])"
      ]
     },
     "execution_count": 40,
     "metadata": {},
     "output_type": "execute_result"
    }
   ],
   "source": [
    "result = apply_die_cutting(board, die, 1, 2, 0) \n",
    "result"
   ]
  },
  {
   "cell_type": "code",
   "execution_count": 41,
   "metadata": {},
   "outputs": [
    {
     "data": {
      "text/plain": [
       "array([[ True,  True,  True,  True,  True,  True,  True],\n",
       "       [ True,  True,  True,  True,  True,  True,  True],\n",
       "       [ True,  True,  True,  True,  True,  True,  True],\n",
       "       [ True,  True,  True,  True,  True,  True,  True],\n",
       "       [ True,  True,  True,  True,  True,  True,  True],\n",
       "       [ True,  True,  True,  True,  True,  True,  True]])"
      ]
     },
     "execution_count": 41,
     "metadata": {},
     "output_type": "execute_result"
    }
   ],
   "source": [
    "result == top"
   ]
  },
  {
   "cell_type": "markdown",
   "metadata": {},
   "source": [
    "## bottom"
   ]
  },
  {
   "cell_type": "code",
   "execution_count": 43,
   "metadata": {},
   "outputs": [
    {
     "data": {
      "text/plain": [
       "array([[1, 0, 2, 2, 2, 2, 1],\n",
       "       [2, 2, 3, 1, 0, 0, 2],\n",
       "       [3, 0, 1, 1, 1, 1, 1],\n",
       "       [3, 3, 1, 1, 2, 3, 1],\n",
       "       [2, 0, 0, 2, 0, 2, 2],\n",
       "       [3, 3, 1, 0, 3, 2, 3]])"
      ]
     },
     "execution_count": 43,
     "metadata": {},
     "output_type": "execute_result"
    }
   ],
   "source": [
    "result = apply_die_cutting(board, die, 1, 2, 1) \n",
    "result"
   ]
  },
  {
   "cell_type": "code",
   "execution_count": 44,
   "metadata": {},
   "outputs": [
    {
     "data": {
      "text/plain": [
       "array([[ True,  True,  True,  True,  True,  True,  True],\n",
       "       [ True,  True,  True,  True,  True,  True,  True],\n",
       "       [ True,  True,  True,  True,  True,  True,  True],\n",
       "       [ True,  True,  True,  True,  True,  True,  True],\n",
       "       [ True,  True,  True,  True,  True,  True,  True],\n",
       "       [ True,  True,  True,  True,  True,  True,  True]])"
      ]
     },
     "execution_count": 44,
     "metadata": {},
     "output_type": "execute_result"
    }
   ],
   "source": [
    "result == bottom"
   ]
  },
  {
   "cell_type": "markdown",
   "metadata": {},
   "source": [
    "## left"
   ]
  },
  {
   "cell_type": "code",
   "execution_count": 45,
   "metadata": {},
   "outputs": [
    {
     "data": {
      "text/plain": [
       "array([[1, 0, 1, 1, 2, 2, 1],\n",
       "       [2, 3, 1, 1, 0, 0, 2],\n",
       "       [3, 0, 1, 1, 1, 1, 2],\n",
       "       [3, 0, 2, 3, 1, 0, 2],\n",
       "       [2, 2, 0, 2, 2, 2, 3],\n",
       "       [3, 3, 1, 0, 3, 2, 3]])"
      ]
     },
     "execution_count": 45,
     "metadata": {},
     "output_type": "execute_result"
    }
   ],
   "source": [
    "result = apply_die_cutting(board, die, 1, 2, 2) \n",
    "result"
   ]
  },
  {
   "cell_type": "code",
   "execution_count": 46,
   "metadata": {},
   "outputs": [
    {
     "data": {
      "text/plain": [
       "array([[ True,  True,  True,  True,  True,  True,  True],\n",
       "       [ True,  True,  True,  True,  True,  True,  True],\n",
       "       [ True,  True,  True,  True,  True,  True,  True],\n",
       "       [ True,  True,  True,  True,  True,  True,  True],\n",
       "       [ True,  True,  True,  True,  True,  True,  True],\n",
       "       [ True,  True,  True,  True,  True,  True,  True]])"
      ]
     },
     "execution_count": 46,
     "metadata": {},
     "output_type": "execute_result"
    }
   ],
   "source": [
    "result == left"
   ]
  },
  {
   "cell_type": "markdown",
   "metadata": {},
   "source": [
    "## right"
   ]
  },
  {
   "cell_type": "code",
   "execution_count": 47,
   "metadata": {},
   "outputs": [
    {
     "data": {
      "text/plain": [
       "array([[1, 0, 1, 1, 2, 2, 1],\n",
       "       [2, 3, 1, 1, 0, 0, 2],\n",
       "       [2, 3, 0, 1, 1, 1, 1],\n",
       "       [0, 2, 3, 0, 2, 3, 1],\n",
       "       [2, 3, 2, 2, 0, 2, 2],\n",
       "       [3, 3, 1, 0, 3, 2, 3]])"
      ]
     },
     "execution_count": 47,
     "metadata": {},
     "output_type": "execute_result"
    }
   ],
   "source": [
    "result = apply_die_cutting(board, die, 1, 2, 3) \n",
    "result"
   ]
  },
  {
   "cell_type": "code",
   "execution_count": 48,
   "metadata": {},
   "outputs": [
    {
     "data": {
      "text/plain": [
       "array([[ True,  True,  True,  True,  True,  True,  True],\n",
       "       [ True,  True,  True,  True,  True,  True,  True],\n",
       "       [ True,  True,  True,  True,  True,  True,  True],\n",
       "       [ True,  True,  True,  True,  True,  True,  True],\n",
       "       [ True,  True,  True,  True,  True,  True,  True],\n",
       "       [ True,  True,  True,  True,  True,  True,  True]])"
      ]
     },
     "execution_count": 48,
     "metadata": {},
     "output_type": "execute_result"
    }
   ],
   "source": [
    "result == right"
   ]
  },
  {
   "cell_type": "markdown",
   "metadata": {},
   "source": [
    "# Solve 72"
   ]
  },
  {
   "cell_type": "code",
   "execution_count": 50,
   "metadata": {},
   "outputs": [
    {
     "data": {
      "text/plain": [
       "dict_keys(['id', 'board', 'goal', 'dies'])"
      ]
     },
     "execution_count": 50,
     "metadata": {},
     "output_type": "execute_result"
    }
   ],
   "source": [
    "data = load_data(72)\n",
    "data.keys()"
   ]
  },
  {
   "cell_type": "code",
   "execution_count": 51,
   "metadata": {},
   "outputs": [],
   "source": [
    "board = data['board'].copy()\n",
    "goal = data['goal'].copy()\n",
    "dies = data['dies']"
   ]
  },
  {
   "cell_type": "code",
   "execution_count": 52,
   "metadata": {},
   "outputs": [
    {
     "data": {
      "text/plain": [
       "[{'p': 18, 'x': 3, 'y': 97, 's': 3}]"
      ]
     },
     "execution_count": 52,
     "metadata": {},
     "output_type": "execute_result"
    }
   ],
   "source": [
    "def solve_72(h, w, board, goal, dies):\n",
    "    y_start = 0\n",
    "    for i in range(h):\n",
    "        check = board == goal\n",
    "        if not np.all(check[i]):\n",
    "            y_start = i\n",
    "            break\n",
    "\n",
    "    for y in range(y_start, h):\n",
    "        for x in range(0, w):\n",
    "            for id, die in enumerate(dies):\n",
    "                for d in [0, 2, 3]:\n",
    "                    state = apply_die_cutting(board, die, x, y, d)\n",
    "                    if np.all(state == goal):\n",
    "                        return [{\n",
    "                            'p': id,\n",
    "                            'x': x,\n",
    "                            'y': y,\n",
    "                            's': d\n",
    "                        }]\n",
    "\n",
    "solve_72(128, 64, board, goal, dies)"
   ]
  },
  {
   "cell_type": "code",
   "execution_count": 53,
   "metadata": {},
   "outputs": [
    {
     "data": {
      "text/plain": [
       "0.20619916915893555"
      ]
     },
     "execution_count": 53,
     "metadata": {},
     "output_type": "execute_result"
    }
   ],
   "source": [
    "estimate_time(solve_72, **{\"h\": 128, \"w\": 64, \"board\": board, \"goal\": goal, \"dies\": dies})"
   ]
  },
  {
   "cell_type": "code",
   "execution_count": 56,
   "metadata": {},
   "outputs": [
    {
     "data": {
      "text/plain": [
       "array([[3, 2, 1, ..., 2, 0, 2],\n",
       "       [0, 1, 3, ..., 3, 3, 1],\n",
       "       [0, 3, 2, ..., 3, 3, 2],\n",
       "       ...,\n",
       "       [3, 1, 1, ..., 3, 2, 2],\n",
       "       [1, 1, 1, ..., 0, 1, 0],\n",
       "       [1, 0, 3, ..., 0, 0, 0]])"
      ]
     },
     "execution_count": 56,
     "metadata": {},
     "output_type": "execute_result"
    }
   ],
   "source": [
    "result = apply_die_cutting(board, dies[18], 3, 97, 3)\n",
    "result"
   ]
  },
  {
   "cell_type": "code",
   "execution_count": 57,
   "metadata": {},
   "outputs": [
    {
     "data": {
      "image/png": "[encoded data removed]",
      "text/plain": [
       "<Figure size 640x480 with 1 Axes>"
      ]
     },
     "metadata": {},
     "output_type": "display_data"
    }
   ],
   "source": [
    "save_figure(72, result, goal)"
   ]
  },
  {
   "cell_type": "markdown",
   "metadata": {},
   "source": [
    "# Solve 70"
   ]
  },
  {
   "cell_type": "code",
   "execution_count": 20,
   "metadata": {},
   "outputs": [],
   "source": [
    "data = load_data(70)\n",
    "board = data['board'].copy()\n",
    "goal = data['goal'].copy()\n",
    "dies = data['dies']\n",
    "w = data['w']\n",
    "h = data['h']\n"
   ]
  },
  {
   "cell_type": "code",
   "execution_count": null,
   "metadata": {},
   "outputs": [
    {
     "name": "stdout",
     "output_type": "stream",
     "text": [
      "8\n"
     ]
    },
    {
     "data": {
      "text/plain": [
       "[{'p': 19, 'x': 26, 'y': 8, 's': 3}, {'p': 19, 'x': 24, 'y': 25, 's': 1}]"
      ]
     },
     "execution_count": 21,
     "metadata": {},
     "output_type": "execute_result"
    }
   ],
   "source": [
    "def solve_70(h, w, board, goal, dies):\n",
    "    x_start = 0\n",
    "    y_start = 0\n",
    "    for i in range(w):\n",
    "        if board[1][i] != goal[1][i]:\n",
    "            x_start = i\n",
    "            break\n",
    "    for i in range(h):\n",
    "        if board[i][0] != goal[i][0]:\n",
    "            y_start = i\n",
    "            break\n",
    "\n",
    "    # full block first\n",
    "    result = []\n",
    "    for y in range(y_start, h):\n",
    "        for x in range(0, w):\n",
    "            direcs = [0, 2, 3]\n",
    "            if x > x_start:\n",
    "                direcs = [2, 3]\n",
    "            for idie, die in enumerate(dies):\n",
    "                for d in direcs:\n",
    "                    state1 = apply_die_cutting(board, die, x, y, d)\n",
    "                    if np.all(state1[:, :x_start] == goal[:, :x_start]):\n",
    "                        result.append({\n",
    "                            'p': idie,\n",
    "                            'x': x,\n",
    "                            'y': y,\n",
    "                            's': d\n",
    "                        })\n",
    "\n",
    "\n",
    "                        # full table\n",
    "                        for y2 in range(0, h):\n",
    "                            for x2 in range(x_start, w):\n",
    "                                for d2 in [0, 1, 2]:\n",
    "                                    state2 = apply_die_cutting(state1, die, x2, y2, d2)\n",
    "                                    if np.all(state2 == goal):\n",
    "                                        result.append({\n",
    "                                            'p': idie,\n",
    "                                            'x': x2,\n",
    "                                            'y': y2,\n",
    "                                            's': d2\n",
    "                                        })\n",
    "                                        return result\n",
    "                        result = []\n",
    "\n",
    "results = solve_70(h, w, board, goal, dies)\n",
    "results"
   ]
  },
  {
   "cell_type": "code",
   "execution_count": 22,
   "metadata": {},
   "outputs": [],
   "source": [
    "create_json_submit(70, results)"
   ]
  },
  {
   "cell_type": "code",
   "execution_count": 23,
   "metadata": {},
   "outputs": [
    {
     "data": {
      "image/png": "[encoded data removed]",
      "text/plain": [
       "<Figure size 640x480 with 1 Axes>"
      ]
     },
     "metadata": {},
     "output_type": "display_data"
    }
   ],
   "source": [
    "state = board.copy()\n",
    "for res in results:\n",
    "    state = apply_die_cutting(state, dies[res['p']], res['x'], res['y'], res['s'])\n",
    "\n",
    "save_figure(70, state, goal, True)"
   ]
  }
 ],
 "metadata": {
  "kernelspec": {
   "display_name": "venv",
   "language": "python",
   "name": "python3"
  },
  "language_info": {
   "codemirror_mode": {
    "name": "ipython",
    "version": 3
   },
   "file_extension": ".py",
   "mimetype": "text/x-python",
   "name": "python",
   "nbconvert_exporter": "python",
   "pygments_lexer": "ipython3",
   "version": "3.10.8"
  }
 },
 "nbformat": 4,
 "nbformat_minor": 2
}
