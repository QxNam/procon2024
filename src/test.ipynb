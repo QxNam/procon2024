{
 "cells": [
  {
   "cell_type": "code",
   "execution_count": 49,
   "metadata": {},
   "outputs": [],
   "source": [
    "from utils import apply_die_cutting, load_data, estimate_time, save_figure\n",
    "import numpy as np"
   ]
  },
  {
   "cell_type": "markdown",
   "metadata": {},
   "source": [
    "# Test"
   ]
  },
  {
   "cell_type": "code",
   "execution_count": 37,
   "metadata": {},
   "outputs": [
    {
     "name": "stdout",
     "output_type": "stream",
     "text": [
      "(6, 7)\n",
      "(3, 3)\n"
     ]
    }
   ],
   "source": [
    "# initialize\n",
    "\n",
    "board = np.array([\n",
    "    [1, 0, 1, 1, 2, 2, 1],\n",
    "    [2, 3, 1, 1, 0, 0, 2],\n",
    "    [3, 0, 2, 1, 1, 1, 1],\n",
    "    [3, 0, 0, 2, 2, 3, 1],\n",
    "    [2, 2, 3, 2, 0, 2, 2],\n",
    "    [3, 3, 1, 0, 3, 2, 3]\n",
    "])\n",
    "\n",
    "print(board.shape) # row, col == h, w\n",
    "\n",
    "die = np.array([\n",
    "    [0, 1, 0],\n",
    "    [1, 0, 1],\n",
    "    [1, 1, 0]\n",
    "])\n",
    "\n",
    "print(die.shape) # row, col == h, w"
   ]
  },
  {
   "cell_type": "code",
   "execution_count": 39,
   "metadata": {},
   "outputs": [],
   "source": [
    "# results\n",
    "\n",
    "top = np.array([\n",
    "    [1, 0, 1, 1, 2, 2, 1],\n",
    "    [2, 3, 1, 1, 0, 0, 2],\n",
    "    [3, 0, 0, 1, 1, 1, 1],\n",
    "    [3, 3, 1, 2, 2, 3, 1],\n",
    "    [2, 0, 2, 0, 0, 2, 2],\n",
    "    [3, 2, 3, 2, 3, 2, 3]\n",
    "])\n",
    "\n",
    "bottom = np.array([\n",
    "    [1, 0, 2, 2, 2, 2, 1],\n",
    "    [2, 2, 3, 1, 0, 0, 2],\n",
    "    [3, 0, 1, 1, 1, 1, 1],\n",
    "    [3, 3, 1, 1, 2, 3, 1],\n",
    "    [2, 0, 0, 2, 0, 2, 2],\n",
    "    [3, 3, 1, 0, 3, 2, 3]\n",
    "])\n",
    "\n",
    "left = np.array([\n",
    "    [1, 0, 1, 1, 2, 2, 1],\n",
    "    [2, 3, 1, 1, 0, 0, 2],\n",
    "    [3, 0, 1, 1, 1, 1, 2],\n",
    "    [3, 0, 2, 3, 1, 0, 2],\n",
    "    [2, 2, 0, 2, 2, 2, 3],\n",
    "    [3, 3, 1, 0, 3, 2, 3]\n",
    "])\n",
    "\n",
    "right = np.array([\n",
    "    [1, 0, 1, 1, 2, 2, 1],\n",
    "    [2, 3, 1, 1, 0, 0, 2],\n",
    "    [2, 3, 0, 1, 1, 1, 1],\n",
    "    [0, 2, 3, 0, 2, 3, 1],\n",
    "    [2, 3, 2, 2, 0, 2, 2],\n",
    "    [3, 3, 1, 0, 3, 2, 3]\n",
    "])"
   ]
  },
  {
   "cell_type": "markdown",
   "metadata": {},
   "source": [
    "## top"
   ]
  },
  {
   "cell_type": "code",
   "execution_count": 40,
   "metadata": {},
   "outputs": [
    {
     "data": {
      "text/plain": [
       "array([[1, 0, 1, 1, 2, 2, 1],\n",
       "       [2, 3, 1, 1, 0, 0, 2],\n",
       "       [3, 0, 0, 1, 1, 1, 1],\n",
       "       [3, 3, 1, 2, 2, 3, 1],\n",
       "       [2, 0, 2, 0, 0, 2, 2],\n",
       "       [3, 2, 3, 2, 3, 2, 3]])"
      ]
     },
     "execution_count": 40,
     "metadata": {},
     "output_type": "execute_result"
    }
   ],
   "source": [
    "result = apply_die_cutting(board, die, 1, 2, 0) \n",
    "result"
   ]
  },
  {
   "cell_type": "code",
   "execution_count": 41,
   "metadata": {},
   "outputs": [
    {
     "data": {
      "text/plain": [
       "array([[ True,  True,  True,  True,  True,  True,  True],\n",
       "       [ True,  True,  True,  True,  True,  True,  True],\n",
       "       [ True,  True,  True,  True,  True,  True,  True],\n",
       "       [ True,  True,  True,  True,  True,  True,  True],\n",
       "       [ True,  True,  True,  True,  True,  True,  True],\n",
       "       [ True,  True,  True,  True,  True,  True,  True]])"
      ]
     },
     "execution_count": 41,
     "metadata": {},
     "output_type": "execute_result"
    }
   ],
   "source": [
    "result == top"
   ]
  },
  {
   "cell_type": "markdown",
   "metadata": {},
   "source": [
    "## bottom"
   ]
  },
  {
   "cell_type": "code",
   "execution_count": 43,
   "metadata": {},
   "outputs": [
    {
     "data": {
      "text/plain": [
       "array([[1, 0, 2, 2, 2, 2, 1],\n",
       "       [2, 2, 3, 1, 0, 0, 2],\n",
       "       [3, 0, 1, 1, 1, 1, 1],\n",
       "       [3, 3, 1, 1, 2, 3, 1],\n",
       "       [2, 0, 0, 2, 0, 2, 2],\n",
       "       [3, 3, 1, 0, 3, 2, 3]])"
      ]
     },
     "execution_count": 43,
     "metadata": {},
     "output_type": "execute_result"
    }
   ],
   "source": [
    "result = apply_die_cutting(board, die, 1, 2, 1) \n",
    "result"
   ]
  },
  {
   "cell_type": "code",
   "execution_count": 44,
   "metadata": {},
   "outputs": [
    {
     "data": {
      "text/plain": [
       "array([[ True,  True,  True,  True,  True,  True,  True],\n",
       "       [ True,  True,  True,  True,  True,  True,  True],\n",
       "       [ True,  True,  True,  True,  True,  True,  True],\n",
       "       [ True,  True,  True,  True,  True,  True,  True],\n",
       "       [ True,  True,  True,  True,  True,  True,  True],\n",
       "       [ True,  True,  True,  True,  True,  True,  True]])"
      ]
     },
     "execution_count": 44,
     "metadata": {},
     "output_type": "execute_result"
    }
   ],
   "source": [
    "result == bottom"
   ]
  },
  {
   "cell_type": "markdown",
   "metadata": {},
   "source": [
    "## left"
   ]
  },
  {
   "cell_type": "code",
   "execution_count": 45,
   "metadata": {},
   "outputs": [
    {
     "data": {
      "text/plain": [
       "array([[1, 0, 1, 1, 2, 2, 1],\n",
       "       [2, 3, 1, 1, 0, 0, 2],\n",
       "       [3, 0, 1, 1, 1, 1, 2],\n",
       "       [3, 0, 2, 3, 1, 0, 2],\n",
       "       [2, 2, 0, 2, 2, 2, 3],\n",
       "       [3, 3, 1, 0, 3, 2, 3]])"
      ]
     },
     "execution_count": 45,
     "metadata": {},
     "output_type": "execute_result"
    }
   ],
   "source": [
    "result = apply_die_cutting(board, die, 1, 2, 2) \n",
    "result"
   ]
  },
  {
   "cell_type": "code",
   "execution_count": 46,
   "metadata": {},
   "outputs": [
    {
     "data": {
      "text/plain": [
       "array([[ True,  True,  True,  True,  True,  True,  True],\n",
       "       [ True,  True,  True,  True,  True,  True,  True],\n",
       "       [ True,  True,  True,  True,  True,  True,  True],\n",
       "       [ True,  True,  True,  True,  True,  True,  True],\n",
       "       [ True,  True,  True,  True,  True,  True,  True],\n",
       "       [ True,  True,  True,  True,  True,  True,  True]])"
      ]
     },
     "execution_count": 46,
     "metadata": {},
     "output_type": "execute_result"
    }
   ],
   "source": [
    "result == left"
   ]
  },
  {
   "cell_type": "markdown",
   "metadata": {},
   "source": [
    "## right"
   ]
  },
  {
   "cell_type": "code",
   "execution_count": 47,
   "metadata": {},
   "outputs": [
    {
     "data": {
      "text/plain": [
       "array([[1, 0, 1, 1, 2, 2, 1],\n",
       "       [2, 3, 1, 1, 0, 0, 2],\n",
       "       [2, 3, 0, 1, 1, 1, 1],\n",
       "       [0, 2, 3, 0, 2, 3, 1],\n",
       "       [2, 3, 2, 2, 0, 2, 2],\n",
       "       [3, 3, 1, 0, 3, 2, 3]])"
      ]
     },
     "execution_count": 47,
     "metadata": {},
     "output_type": "execute_result"
    }
   ],
   "source": [
    "result = apply_die_cutting(board, die, 1, 2, 3) \n",
    "result"
   ]
  },
  {
   "cell_type": "code",
   "execution_count": 48,
   "metadata": {},
   "outputs": [
    {
     "data": {
      "text/plain": [
       "array([[ True,  True,  True,  True,  True,  True,  True],\n",
       "       [ True,  True,  True,  True,  True,  True,  True],\n",
       "       [ True,  True,  True,  True,  True,  True,  True],\n",
       "       [ True,  True,  True,  True,  True,  True,  True],\n",
       "       [ True,  True,  True,  True,  True,  True,  True],\n",
       "       [ True,  True,  True,  True,  True,  True,  True]])"
      ]
     },
     "execution_count": 48,
     "metadata": {},
     "output_type": "execute_result"
    }
   ],
   "source": [
    "result == right"
   ]
  },
  {
   "cell_type": "markdown",
   "metadata": {},
   "source": [
    "# Solve 72"
   ]
  },
  {
   "cell_type": "code",
   "execution_count": 50,
   "metadata": {},
   "outputs": [
    {
     "data": {
      "text/plain": [
       "dict_keys(['id', 'board', 'goal', 'dies'])"
      ]
     },
     "execution_count": 50,
     "metadata": {},
     "output_type": "execute_result"
    }
   ],
   "source": [
    "data = load_data(72)\n",
    "data.keys()"
   ]
  },
  {
   "cell_type": "code",
   "execution_count": 51,
   "metadata": {},
   "outputs": [],
   "source": [
    "board = data['board'].copy()\n",
    "goal = data['goal'].copy()\n",
    "dies = data['dies']"
   ]
  },
  {
   "cell_type": "code",
   "execution_count": 52,
   "metadata": {},
   "outputs": [
    {
     "data": {
      "text/plain": [
       "[{'p': 18, 'x': 3, 'y': 97, 's': 3}]"
      ]
     },
     "execution_count": 52,
     "metadata": {},
     "output_type": "execute_result"
    }
   ],
   "source": [
    "def solve_72(h, w, board, goal, dies):\n",
    "    y_start = 0\n",
    "    for i in range(h):\n",
    "        check = board == goal\n",
    "        if not np.all(check[i]):\n",
    "            y_start = i\n",
    "            break\n",
    "\n",
    "    for y in range(y_start, h):\n",
    "        for x in range(0, w):\n",
    "            for id, die in enumerate(dies):\n",
    "                for d in [0, 2, 3]:\n",
    "                    state = apply_die_cutting(board, die, x, y, d)\n",
    "                    if np.all(state == goal):\n",
    "                        return [{\n",
    "                            'p': id,\n",
    "                            'x': x,\n",
    "                            'y': y,\n",
    "                            's': d\n",
    "                        }]\n",
    "\n",
    "solve_72(128, 64, board, goal, dies)"
   ]
  },
  {
   "cell_type": "code",
   "execution_count": 53,
   "metadata": {},
   "outputs": [
    {
     "data": {
      "text/plain": [
       "0.20619916915893555"
      ]
     },
     "execution_count": 53,
     "metadata": {},
     "output_type": "execute_result"
    }
   ],
   "source": [
    "estimate_time(solve_72, **{\"h\": 128, \"w\": 64, \"board\": board, \"goal\": goal, \"dies\": dies})"
   ]
  },
  {
   "cell_type": "code",
   "execution_count": 56,
   "metadata": {},
   "outputs": [
    {
     "data": {
      "text/plain": [
       "array([[3, 2, 1, ..., 2, 0, 2],\n",
       "       [0, 1, 3, ..., 3, 3, 1],\n",
       "       [0, 3, 2, ..., 3, 3, 2],\n",
       "       ...,\n",
       "       [3, 1, 1, ..., 3, 2, 2],\n",
       "       [1, 1, 1, ..., 0, 1, 0],\n",
       "       [1, 0, 3, ..., 0, 0, 0]])"
      ]
     },
     "execution_count": 56,
     "metadata": {},
     "output_type": "execute_result"
    }
   ],
   "source": [
    "result = apply_die_cutting(board, dies[18], 3, 97, 3)\n",
    "result"
   ]
  },
  {
   "cell_type": "code",
   "execution_count": 57,
   "metadata": {},
   "outputs": [
    {
     "data": {
      "image/png": "[encoded data removed]",
      "text/plain": [
       "<Figure size 640x480 with 1 Axes>"
      ]
     },
     "metadata": {},
     "output_type": "display_data"
    }
   ],
   "source": [
    "save_figure(72, result, goal)"
   ]
  }
 ],
 "metadata": {
  "kernelspec": {
   "display_name": "venv",
   "language": "python",
   "name": "python3"
  },
  "language_info": {
   "codemirror_mode": {
    "name": "ipython",
    "version": 3
   },
   "file_extension": ".py",
   "mimetype": "text/x-python",
   "name": "python",
   "nbconvert_exporter": "python",
   "pygments_lexer": "ipython3",
   "version": "3.10.8"
  }
 },
 "nbformat": 4,
 "nbformat_minor": 2
}
