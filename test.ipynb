{
 "cells": [
  {
   "cell_type": "code",
   "execution_count": 1,
   "metadata": {},
   "outputs": [],
   "source": [
    "from src.envs.utils import apply_die_cutting\n"
   ]
  },
  {
   "cell_type": "code",
   "execution_count": 9,
   "metadata": {},
   "outputs": [
    {
     "name": "stdout",
     "output_type": "stream",
     "text": [
      "(6, 7)\n",
      "(3, 3)\n"
     ]
    }
   ],
   "source": [
    "import numpy as np\n",
    "\n",
    "board = np.array([\n",
    "    [1, 0, 1, 1, 2, 2, 1],\n",
    "    [2, 3, 1, 1, 0, 0, 2],\n",
    "    [3, 0, 2, 1, 1, 1, 1],\n",
    "    [3, 0, 0, 2, 2, 3, 1],\n",
    "    [2, 2, 3, 2, 0, 2, 2],\n",
    "    [3, 3, 1, 0, 3, 2, 3]\n",
    "])\n",
    "\n",
    "print(board.shape) # row, col == h, w\n",
    "\n",
    "die = np.array([\n",
    "    [0, 1, 0],\n",
    "    [1, 0, 1],\n",
    "    [1, 1, 0]\n",
    "])\n",
    "\n",
    "print(die.shape) # row, col == h, w"
   ]
  },
  {
   "cell_type": "code",
   "execution_count": 10,
   "metadata": {},
   "outputs": [
    {
     "data": {
      "text/plain": [
       "array([[ 1, -1,  1,  1,  2,  2,  1],\n",
       "       [-1,  3, -1,  1,  0,  0,  2],\n",
       "       [-1, -1,  2,  1,  1,  1,  1],\n",
       "       [ 3,  0,  0,  2,  2,  3,  1],\n",
       "       [ 2,  2,  3,  2,  0,  2,  2],\n",
       "       [ 3,  3,  1,  0,  3,  2,  3]])"
      ]
     },
     "execution_count": 10,
     "metadata": {},
     "output_type": "execute_result"
    }
   ],
   "source": [
    "apply_die_cutting(board, die, 0, 0, 2)\n",
    "board"
   ]
  },
  {
   "cell_type": "code",
   "execution_count": 4,
   "metadata": {},
   "outputs": [
    {
     "data": {
      "text/plain": [
       "array([[0, 1, 0],\n",
       "       [1, 0, 1],\n",
       "       [1, 1, 0]])"
      ]
     },
     "execution_count": 4,
     "metadata": {},
     "output_type": "execute_result"
    }
   ],
   "source": [
    "die"
   ]
  },
  {
   "cell_type": "code",
   "execution_count": null,
   "metadata": {},
   "outputs": [],
   "source": [
    "a = np.array([1, 2, 3, 4, 5])\n",
    "a[-1:]"
   ]
  },
  {
   "cell_type": "code",
   "execution_count": null,
   "metadata": {},
   "outputs": [],
   "source": [
    "top = np.array([\n",
    "    [1, 0, 1, 1, 2, 2, 1],\n",
    "    [2, 3, 1, 1, 0, 0, 2],\n",
    "    [3, 0, 0, 1, 1, 1, 1],\n",
    "    [3, 3, 1, 2, 2, 3, 1],\n",
    "    [2, 0, 2, 0, 0, 2, 2],\n",
    "    [3, 2, 3, 2, 3, 2, 3]\n",
    "])\n",
    "\n",
    "bottom = np.array([\n",
    "    [1, 0, 2, 2, 2, 2, 1],\n",
    "    [2, 2, 3, 1, 0, 0, 2],\n",
    "    [3, 0, 1, 1, 1, 1, 1],\n",
    "    [3, 3, 1, 1, 2, 3, 1],\n",
    "    [2, 0, 0, 2, 0, 2, 2],\n",
    "    [3, 3, 1, 0, 3, 2, 3]\n",
    "])\n",
    "\n",
    "left = np.array([\n",
    "    [1, 0, 1, 1, 2, 2, 1],\n",
    "    [2, 3, 1, 1, 0, 0, 2],\n",
    "    [3, 0, 1, 1, 1, 1, 2],\n",
    "    [3, 0, 2, 3, 1, 0, 2],\n",
    "    [2, 2, 0, 2, 2, 2, 3],\n",
    "    [3, 3, 1, 0, 3, 2, 3]\n",
    "])\n",
    "\n",
    "right = np.array([\n",
    "    [1, 0, 1, 1, 2, 2, 1],\n",
    "    [2, 3, 1, 1, 0, 0, 2],\n",
    "    [2, 3, 0, 1, 1, 1, 1],\n",
    "    [0, 2, 3, 0, 2, 3, 1],\n",
    "    [2, 3, 2, 2, 0, 2, 2],\n",
    "    [3, 3, 1, 0, 3, 2, 3]\n",
    "])"
   ]
  },
  {
   "cell_type": "markdown",
   "metadata": {},
   "source": [
    "# top"
   ]
  },
  {
   "cell_type": "code",
   "execution_count": null,
   "metadata": {},
   "outputs": [],
   "source": [
    "apply_die_cutting(board, die, 1, 2, 0) \n",
    "\n",
    "board"
   ]
  },
  {
   "cell_type": "code",
   "execution_count": null,
   "metadata": {},
   "outputs": [],
   "source": [
    "board == top"
   ]
  },
  {
   "cell_type": "code",
   "execution_count": null,
   "metadata": {},
   "outputs": [],
   "source": []
  },
  {
   "cell_type": "markdown",
   "metadata": {},
   "source": [
    "# bottom"
   ]
  },
  {
   "cell_type": "code",
   "execution_count": null,
   "metadata": {},
   "outputs": [],
   "source": [
    "apply_die_cutting(board, die, 1, 2, 1) \n",
    "\n",
    "board"
   ]
  },
  {
   "cell_type": "code",
   "execution_count": null,
   "metadata": {},
   "outputs": [],
   "source": [
    "board == bottom"
   ]
  },
  {
   "cell_type": "markdown",
   "metadata": {},
   "source": [
    "# left"
   ]
  },
  {
   "cell_type": "code",
   "execution_count": null,
   "metadata": {},
   "outputs": [],
   "source": [
    "apply_die_cutting(board, die, 1, 2, 2) \n",
    "\n",
    "board"
   ]
  },
  {
   "cell_type": "code",
   "execution_count": null,
   "metadata": {},
   "outputs": [],
   "source": [
    "board == left"
   ]
  },
  {
   "cell_type": "markdown",
   "metadata": {},
   "source": [
    "# right"
   ]
  },
  {
   "cell_type": "code",
   "execution_count": null,
   "metadata": {},
   "outputs": [],
   "source": [
    "apply_die_cutting(board, die, 1, 2, 3) \n",
    "\n",
    "board"
   ]
  },
  {
   "cell_type": "code",
   "execution_count": null,
   "metadata": {},
   "outputs": [],
   "source": [
    "board == right"
   ]
  },
  {
   "cell_type": "markdown",
   "metadata": {},
   "source": [
    "## Test 2"
   ]
  },
  {
   "cell_type": "code",
   "execution_count": 105,
   "metadata": {},
   "outputs": [
    {
     "data": {
      "text/plain": [
       "'32 phút trước'"
      ]
     },
     "execution_count": 105,
     "metadata": {},
     "output_type": "execute_result"
    }
   ],
   "source": [
    "\"32 phút trước\""
   ]
  }
 ],
 "metadata": {
  "kernelspec": {
   "display_name": "venv",
   "language": "python",
   "name": "python3"
  },
  "language_info": {
   "codemirror_mode": {
    "name": "ipython",
    "version": 3
   },
   "file_extension": ".py",
   "mimetype": "text/x-python",
   "name": "python",
   "nbconvert_exporter": "python",
   "pygments_lexer": "ipython3",
   "version": "3.10.8"
  }
 },
 "nbformat": 4,
 "nbformat_minor": 2
}
