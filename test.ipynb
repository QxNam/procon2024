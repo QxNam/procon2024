{
 "cells": [
  {
   "cell_type": "code",
   "execution_count": 1,
   "metadata": {},
   "outputs": [],
   "source": [
    "from src.envs.utils import apply_die_cutting"
   ]
  },
  {
   "cell_type": "code",
   "execution_count": 2,
   "metadata": {},
   "outputs": [
    {
     "name": "stdout",
     "output_type": "stream",
     "text": [
      "(6, 7)\n",
      "(3, 3)\n"
     ]
    }
   ],
   "source": [
    "import numpy as np\n",
    "\n",
    "board = np.array([\n",
    "    [1, 0, 1, 1, 2, 2, 1],\n",
    "    [2, 3, 1, 1, 0, 0, 2],\n",
    "    [3, 0, 2, 1, 1, 1, 1],\n",
    "    [3, 0, 0, 2, 2, 3, 1],\n",
    "    [2, 2, 3, 2, 0, 2, 2],\n",
    "    [3, 3, 1, 0, 3, 2, 3]\n",
    "])\n",
    "\n",
    "print(board.shape) # row, col == h, w\n",
    "\n",
    "die = np.array([\n",
    "    [0, 1, 0],\n",
    "    [1, 0, 1],\n",
    "    [1, 1, 0]\n",
    "])\n",
    "\n",
    "print(die.shape) # row, col == h, w"
   ]
  },
  {
   "cell_type": "code",
   "execution_count": 4,
   "metadata": {},
   "outputs": [
    {
     "data": {
      "text/plain": [
       "array([[1, 1, 1, 2, 2, 1, 0],\n",
       "       [3, 1, 0, 0, 2, 2, 1],\n",
       "       [2, 1, 1, 1, 1, 3, 0],\n",
       "       [3, 0, 0, 2, 2, 3, 1],\n",
       "       [2, 2, 3, 2, 0, 2, 2],\n",
       "       [3, 3, 1, 0, 3, 2, 3]])"
      ]
     },
     "execution_count": 4,
     "metadata": {},
     "output_type": "execute_result"
    }
   ],
   "source": [
    "applyBoard = apply_die_cutting(board, die, 0, 0, 2)\n",
    "applyBoard"
   ]
  },
  {
   "cell_type": "code",
   "execution_count": 9,
   "metadata": {},
   "outputs": [],
   "source": [
    "top_0_0 = np.array([[1, 3, 1, 1, 2, 2, 1],\n",
    "                    [3, 0, 2, 1, 0, 0, 2],\n",
    "                    [2, 2, 0, 1, 1, 1, 1],\n",
    "                    [3, 3, 3, 2, 2, 3, 1],\n",
    "                    [2, 0, 1, 2, 0, 2, 2],\n",
    "                    [3, 0, 1, 0, 3, 2, 3]])\n",
    "\n",
    "\n",
    "bot_0_0 = np.array([[2, 0, 1, 1, 2, 2, 1],\n",
    "                    [3, 0, 1, 1, 0, 0, 2],\n",
    "                    [1, 3, 2, 1, 1, 1, 1],\n",
    "                    [3, 0, 0, 2, 2, 3, 1],\n",
    "                    [2, 2, 3, 2, 0, 2, 2],\n",
    "                    [3, 3, 1, 0, 3, 2, 3]])\n",
    "\n",
    "\n",
    "\n",
    "left_0_0 = np.array([[1, 1, 1, 2, 2, 1, 0],\n",
    "                     [3, 1, 0, 0, 2, 2, 1],\n",
    "                     [2, 1, 1, 1, 1, 3, 0],\n",
    "                     [3, 0, 0, 2, 2, 3, 1],\n",
    "                     [2, 2, 3, 2, 0, 2, 2],\n",
    "                     [3, 3, 1, 0, 3, 2, 3]])\n",
    "\n",
    "\n",
    "\n",
    "right_0_0 = np.array([[0, 1, 1, 1, 2, 2, 1],\n",
    "                      [2, 1, 3, 1, 0, 0, 2],\n",
    "                      [3, 0, 2, 1, 1, 1, 1],\n",
    "                      [3, 0, 0, 2, 2, 3, 1],\n",
    "                      [2, 2, 3, 2, 0, 2, 2],\n",
    "                      [3, 3, 1, 0, 3, 2, 3]])"
   ]
  },
  {
   "cell_type": "markdown",
   "metadata": {},
   "source": [
    "# top"
   ]
  },
  {
   "cell_type": "code",
   "execution_count": null,
   "metadata": {},
   "outputs": [
    {
     "data": {
      "text/plain": [
       "array([[ True,  True,  True,  True,  True,  True,  True],\n",
       "       [ True,  True,  True,  True,  True,  True,  True],\n",
       "       [ True,  True,  True,  True,  True,  True,  True],\n",
       "       [ True,  True,  True,  True,  True,  True,  True],\n",
       "       [ True,  True,  True,  True,  True,  True,  True],\n",
       "       [ True,  True,  True,  True,  True,  True,  True]])"
      ]
     },
     "execution_count": 10,
     "metadata": {},
     "output_type": "execute_result"
    }
   ],
   "source": [
    "top_board  = apply_die_cutting(board, die, 0, 0, 0) \n",
    "top_board == top_0_0"
   ]
  },
  {
   "cell_type": "markdown",
   "metadata": {},
   "source": [
    "# bottom"
   ]
  },
  {
   "cell_type": "code",
   "execution_count": 11,
   "metadata": {},
   "outputs": [
    {
     "data": {
      "text/plain": [
       "array([[ True,  True,  True,  True,  True,  True,  True],\n",
       "       [ True,  True,  True,  True,  True,  True,  True],\n",
       "       [ True,  True,  True,  True,  True,  True,  True],\n",
       "       [ True,  True,  True,  True,  True,  True,  True],\n",
       "       [ True,  True,  True,  True,  True,  True,  True],\n",
       "       [ True,  True,  True,  True,  True,  True,  True]])"
      ]
     },
     "execution_count": 11,
     "metadata": {},
     "output_type": "execute_result"
    }
   ],
   "source": [
    "bot_board= apply_die_cutting(board, die, 0, 0, 1) \n",
    "bot_board == bot_0_0"
   ]
  },
  {
   "cell_type": "markdown",
   "metadata": {},
   "source": [
    "# left"
   ]
  },
  {
   "cell_type": "code",
   "execution_count": 12,
   "metadata": {},
   "outputs": [
    {
     "data": {
      "text/plain": [
       "array([[ True,  True,  True,  True,  True,  True,  True],\n",
       "       [ True,  True,  True,  True,  True,  True,  True],\n",
       "       [ True,  True,  True,  True,  True,  True,  True],\n",
       "       [ True,  True,  True,  True,  True,  True,  True],\n",
       "       [ True,  True,  True,  True,  True,  True,  True],\n",
       "       [ True,  True,  True,  True,  True,  True,  True]])"
      ]
     },
     "execution_count": 12,
     "metadata": {},
     "output_type": "execute_result"
    }
   ],
   "source": [
    "board_left = apply_die_cutting(board, die, 0, 0, 2)\n",
    "board_left == left_0_0"
   ]
  },
  {
   "cell_type": "markdown",
   "metadata": {},
   "source": [
    "# right"
   ]
  },
  {
   "cell_type": "code",
   "execution_count": 13,
   "metadata": {},
   "outputs": [
    {
     "data": {
      "text/plain": [
       "array([[ True,  True,  True,  True,  True,  True,  True],\n",
       "       [ True,  True,  True,  True,  True,  True,  True],\n",
       "       [ True,  True,  True,  True,  True,  True,  True],\n",
       "       [ True,  True,  True,  True,  True,  True,  True],\n",
       "       [ True,  True,  True,  True,  True,  True,  True],\n",
       "       [ True,  True,  True,  True,  True,  True,  True]])"
      ]
     },
     "execution_count": 13,
     "metadata": {},
     "output_type": "execute_result"
    }
   ],
   "source": [
    "board_right = apply_die_cutting(board, die, 0, 0, 3)\n",
    "board_right == right_0_0"
   ]
  }
 ],
 "metadata": {
  "kernelspec": {
   "display_name": "Python 3",
   "language": "python",
   "name": "python3"
  },
  "language_info": {
   "codemirror_mode": {
    "name": "ipython",
    "version": 3
   },
   "file_extension": ".py",
   "mimetype": "text/x-python",
   "name": "python",
   "nbconvert_exporter": "python",
   "pygments_lexer": "ipython3",
   "version": "3.10.11"
  }
 },
 "nbformat": 4,
 "nbformat_minor": 2
}
