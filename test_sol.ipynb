{
 "cells": [
  {
   "cell_type": "code",
   "execution_count": 192,
   "metadata": {},
   "outputs": [],
   "source": [
    "from states.utils import apply_die_cutting, load_data, estimate_time, save_figure, load_dies\n",
    "from random_question import create_board_dict\n",
    "import numpy as np\n",
    "import json\n",
    "import bisect\n"
   ]
  },
  {
   "cell_type": "code",
   "execution_count": 193,
   "metadata": {},
   "outputs": [],
   "source": [
    "def count_differences_np(arr1, arr2):\n",
    "    arr1 = np.array(arr1)\n",
    "    arr2 = np.array(arr2)\n",
    "    if arr1.shape != arr2.shape:\n",
    "        raise ValueError(\"Hai ma trận phải có cùng kích thước\")\n",
    "    differences = np.sum(arr1 != arr2)\n",
    "    return differences"
   ]
  },
  {
   "cell_type": "code",
   "execution_count": 244,
   "metadata": {},
   "outputs": [],
   "source": [
    "id = 66\n",
    "data = load_data(id)\n",
    "board = data['board'].copy()\n",
    "goal = data['goal'].copy()\n",
    "dies = data['dies']"
   ]
  },
  {
   "cell_type": "code",
   "execution_count": 245,
   "metadata": {},
   "outputs": [
    {
     "data": {
      "text/plain": [
       "773"
      ]
     },
     "execution_count": 245,
     "metadata": {},
     "output_type": "execute_result"
    }
   ],
   "source": [
    "np.sum(board!=goal) "
   ]
  },
  {
   "cell_type": "code",
   "execution_count": 280,
   "metadata": {},
   "outputs": [
    {
     "data": {
      "text/plain": [
       "True"
      ]
     },
     "execution_count": 280,
     "metadata": {},
     "output_type": "execute_result"
    }
   ],
   "source": [
    "k=32\n",
    "sub_matrix = board[:,0:k]\n",
    "sub_matrix_goal = goal[:,0:k]\n",
    "counts1 = {i: np.sum(sub_matrix == i) for i in range(4)}\n",
    "counts2 = {i: np.sum(sub_matrix_goal == i) for i in range(4)}\n",
    "counts1 == counts2"
   ]
  },
  {
   "cell_type": "code",
   "execution_count": 283,
   "metadata": {},
   "outputs": [
    {
     "data": {
      "text/plain": [
       "3686.4"
      ]
     },
     "execution_count": 283,
     "metadata": {},
     "output_type": "execute_result"
    }
   ],
   "source": [
    "64*64 - 0.3*1/3*64*64"
   ]
  },
  {
   "cell_type": "code",
   "execution_count": 241,
   "metadata": {},
   "outputs": [
    {
     "data": {
      "text/plain": [
       "[[3, 0, 31, 31]]"
      ]
     },
     "execution_count": 241,
     "metadata": {},
     "output_type": "execute_result"
    }
   ],
   "source": [
    "import numpy as np\n",
    "from scipy.ndimage import label\n",
    "\n",
    "def find_corners_numpy(matrix1, matrix2):\n",
    "    matrix1 = np.array(matrix1)\n",
    "    matrix2 = np.array(matrix2)\n",
    "    \n",
    "    diff = matrix1 != matrix2\n",
    "    if not np.any(diff):  return None\n",
    "\n",
    "    labeled, num_features = label(diff)\n",
    "    corners = []\n",
    "    \n",
    "    for i in range(1, num_features + 1):\n",
    "        indices = np.argwhere(labeled == i)\n",
    "        \n",
    "        top = np.min(indices[:, 0]) \n",
    "        bottom = np.max(indices[:, 0])  \n",
    "        left = np.min(indices[:, 1])  \n",
    "        right = np.max(indices[:, 1])\n",
    "        \n",
    "        new_corners = [top, left, bottom, right]\n",
    "        \n",
    "        overlap = False\n",
    "        for corner in corners:\n",
    "            prev_top, prev_left, prev_bottom, prev_right = corner\n",
    "            if not (right < prev_left or left > prev_right or bottom < prev_top or top > prev_bottom):\n",
    "                overlap = True\n",
    "                break\n",
    "        \n",
    "        if not overlap: corners.append(new_corners)\n",
    "    \n",
    "    return corners\n",
    "find_corners_numpy(board, goal)\n"
   ]
  },
  {
   "cell_type": "code",
   "execution_count": 191,
   "metadata": {},
   "outputs": [],
   "source": [
    "def sol_3(h, w, board, goal, dies): # 2 die 2 moves dựa trên ngưỡng\n",
    "    max_score = np.sum(board!=goal)\n",
    "    results= []\n",
    "    top, left, _, _ = find_corners_numpy(board, goal)[0]\n",
    "    for x in range(left, w):\n",
    "        for y in range(top, h):\n",
    "            for d in [0,2,3]:\n",
    "                for id, die in enumerate(dies):\n",
    "                    new_state = apply_die_cutting(board, die, x, y, d)\n",
    "                    score = np.sum(new_state!=goal)\n",
    "                    if (score-max_score)/max_score <= -0.6: \n",
    "                        results.append((id, x, y, d))\n",
    "                        top2, left2, _, _ = find_corners_numpy(new_state, goal)[0]\n",
    "                        for x2 in range(left2, w):\n",
    "                            for y2 in range(top2, h):\n",
    "                                for d2 in [3,2]:\n",
    "                                    for id2, die2 in enumerate(dies):\n",
    "                                        new_state2 = apply_die_cutting(new_state, die2, x2, y2, d2)\n",
    "                                        score2 = np.sum(new_state2!=goal)\n",
    "                                        if score2==0:\n",
    "                                            results.append((id2, x2, y2, d2))\n",
    "                                            return results\n",
    "                                    \n",
    "    return results\n"
   ]
  },
  {
   "cell_type": "code",
   "execution_count": 322,
   "metadata": {},
   "outputs": [],
   "source": [
    "def check_type(sub_matrix, sub_matrix_goal):\n",
    "    lst_col = []\n",
    "    lst_row = []\n",
    "    x_start = 0\n",
    "    y_start = 0\n",
    "    for i in range(len(sub_matrix[0])):\n",
    "        if sub_matrix[1][i] != sub_matrix_goal[1][i]:\n",
    "            x_start = i\n",
    "            break\n",
    "    for i in range(len(sub_matrix)):\n",
    "        if sub_matrix[i][0] != sub_matrix_goal[i][0]:\n",
    "            y_start = i\n",
    "            break\n",
    "    # for ci in range(x_start, len(sub_matrix[0])):\n",
    "    #     col_goal_ci = sub_matrix_goal[:,ci]\n",
    "    #     for cj in range(sub_matrix.shape[1]):\n",
    "    #         if np.array_equal(sub_matrix[:,cj], col_goal_ci):\n",
    "    #             lst_col.append(cj)\n",
    "    for ci in range(x_start, len(sub_matrix[0])):\n",
    "        lst_col.extend([cj for cj in range(sub_matrix.shape[1]) if np.array_equal(sub_matrix[:, cj], sub_matrix_goal[:, ci])])\n",
    "    # for ri in range(y_start,len(sub_matrix) ):\n",
    "    #     row_goal_ri = sub_matrix_goal[ri]\n",
    "    #     for rj in range(sub_matrix.shape[0]):\n",
    "    #         if np.array_equal(sub_matrix[rj], row_goal_ri):\n",
    "    #             lst_row.append(rj)\n",
    "    for ri in range(y_start, len(sub_matrix)):\n",
    "        lst_row.extend([rj for rj in range(sub_matrix.shape[0]) if np.array_equal(sub_matrix[rj], sub_matrix_goal[ri])])\n",
    "    for i in range(len(lst_col)-1):\n",
    "        if lst_col[i+1] == lst_col[i]+2: \n",
    "            return [3, min(lst_col)]\n",
    "        elif lst_col[i+1] == lst_col[i] +1: \n",
    "            return [1, min(lst_col)]\n",
    "        return 0\n",
    "    print(lst_row)\n",
    "    for j in range(len(lst_row)-1):\n",
    "        if lst_row[j+1] == lst_row[j]+2: \n",
    "            return [2, min(lst_row)]\n",
    "def sol_corner(board, goal):\n",
    "    corners = find_corners_numpy(board, goal) # sửa cái này lấy vùng liên thông lớn nhất\n",
    "    w_board = len(board[0])\n",
    "    results = []\n",
    "    for i in corners:\n",
    "        top, left, bottom, right = i\n",
    "        die_id = max(bottom-top, right-left)\n",
    "        die_size = [1, 2, 4, 8, 16, 32, 64, 128, 256]\n",
    "        die_=[die_size[bisect.bisect_right(die_size, die_id) - 1],  die_size[bisect.bisect_left(die_size, die_id)]]\n",
    "        sub_matrix = board[top:bottom+1, left:right+1]\n",
    "        sub_matrix_goal = goal[top:bottom+1, left:right+1]\n",
    "        counts1 = {i: np.sum(sub_matrix == i) for i in range(4)}\n",
    "        counts2 = {i: np.sum(sub_matrix_goal == i) for i in range(4)}\n",
    "        if counts1 == counts2:  \n",
    "            type_die = check_type(sub_matrix, sub_matrix_goal)[0]\n",
    "            start_x = check_type(sub_matrix, sub_matrix_goal)[1]\n",
    "            if type_die == 1:\n",
    "                for d in [1,2,3]:\n",
    "                    for matrix_id in die_:\n",
    "                        state= apply_die_cutting(sub_matrix, dies[die_size.index(matrix_id)*3-2], start_x, 0, d)\n",
    "                        if np.all(state == sub_matrix_goal):  \n",
    "                            results.append(( die_size.index(matrix_id)*3-2,  start_x+left , top, d))\n",
    "            elif type_die ==3:\n",
    "                for d in [1,2,3]:\n",
    "                    for matrix_id in die_:\n",
    "                        if left >= w_board//2:\n",
    "                            state= apply_die_cutting(sub_matrix, dies[die_size.index(matrix_id)*3], start_x-1 , 0, d)\n",
    "                            if np.all(state == sub_matrix_goal): results.append(( die_size.index(matrix_id)*3,  start_x+left-1 , top, d))\n",
    "                        else:    \n",
    "                            state= apply_die_cutting(sub_matrix, dies[die_size.index(matrix_id)*3], start_x , 0, d)\n",
    "                            w_die = len(dies[die_size.index(matrix_id)*3]) + start_x\n",
    "                            if np.all(state == sub_matrix_goal) and w_die <= w_board: results.append(( die_size.index(matrix_id)*3,  start_x , top, d))\n",
    "            else: pass # trường hợp 2\n",
    "    return {\n",
    "        \"n\": len(results),\n",
    "        \"ops\": [{\"p\": re[0], \"x\": re[1], \"y\": re[2], \"s\": re[3]} for re in results]\n",
    "    }"
   ]
  },
  {
   "cell_type": "code",
   "execution_count": 323,
   "metadata": {},
   "outputs": [
    {
     "data": {
      "image/png": "[encoded data removed]",
      "text/plain": [
       "<Figure size 640x480 with 1 Axes>"
      ]
     },
     "metadata": {},
     "output_type": "display_data"
    }
   ],
   "source": [
    "a = np.array([[1,2,3,1,2,1], [1,2,3,2,1,1], [0,0,1,1,2,3], [0,1,0,2,3,1], [0,0,2,2,3,1], [2,2,3,3,1,1]])\n",
    "b = apply_die_cutting(a, dies[8], 2, 2, 3)\n",
    "save_figure(1, a, b, True)"
   ]
  },
  {
   "cell_type": "code",
   "execution_count": 324,
   "metadata": {},
   "outputs": [
    {
     "name": "stdout",
     "output_type": "stream",
     "text": [
      "[3, 5]\n"
     ]
    },
    {
     "data": {
      "text/plain": [
       "[2, 3]"
      ]
     },
     "execution_count": 324,
     "metadata": {},
     "output_type": "execute_result"
    }
   ],
   "source": [
    "check_type(a, b)"
   ]
  },
  {
   "cell_type": "code",
   "execution_count": 309,
   "metadata": {},
   "outputs": [
    {
     "data": {
      "text/plain": [
       "(array([[1, 2, 3, 1, 2, 1],\n",
       "        [1, 2, 3, 2, 1, 1],\n",
       "        [0, 0, 1, 1, 2, 3],\n",
       "        [0, 1, 0, 2, 3, 1],\n",
       "        [0, 0, 2, 2, 3, 1],\n",
       "        [2, 2, 3, 3, 1, 1]]),\n",
       " array([[1, 2, 3, 1, 2, 1],\n",
       "        [1, 2, 3, 2, 1, 1],\n",
       "        [1, 1, 2, 3, 0, 0],\n",
       "        [0, 1, 0, 2, 3, 1],\n",
       "        [2, 2, 3, 1, 0, 0],\n",
       "        [2, 2, 3, 3, 1, 1]]))"
      ]
     },
     "execution_count": 309,
     "metadata": {},
     "output_type": "execute_result"
    }
   ],
   "source": [
    "a, b"
   ]
  },
  {
   "cell_type": "code",
   "execution_count": null,
   "metadata": {},
   "outputs": [],
   "source": []
  }
 ],
 "metadata": {
  "kernelspec": {
   "display_name": "Python 3",
   "language": "python",
   "name": "python3"
  },
  "language_info": {
   "codemirror_mode": {
    "name": "ipython",
    "version": 3
   },
   "file_extension": ".py",
   "mimetype": "text/x-python",
   "name": "python",
   "nbconvert_exporter": "python",
   "pygments_lexer": "ipython3",
   "version": "3.10.0"
  },
  "orig_nbformat": 4
 },
 "nbformat": 4,
 "nbformat_minor": 2
}
